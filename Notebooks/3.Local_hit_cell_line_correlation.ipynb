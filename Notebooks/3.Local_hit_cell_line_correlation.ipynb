{
 "cells": [
  {
   "cell_type": "code",
   "execution_count": 1,
   "metadata": {},
   "outputs": [],
   "source": [
    "#!/usr/bin/env python3\n",
    "import os\n",
    "import re\n",
    "import sys\n",
    "import collections\n",
    "import argparse\n",
    "import tables\n",
    "import itertools \n",
    "import scipy\n",
    "import matplotlib\n",
    "import glob\n",
    "%matplotlib inline\n",
    "matplotlib.rcParams['pdf.fonttype'] = 42\n",
    "matplotlib.rcParams['ps.fonttype'] = 42\n",
    "\n",
    "import matplotlib.pyplot as plt\n",
    "import numpy as np\n",
    "import pandas as pd\n",
    "import scipy.stats as stats\n",
    "import scipy.sparse as sp_sparse\n",
    "import scipy.io as sio\n",
    "import matplotlib.mlab as mlab\n",
    "\n",
    "from sklearn.cluster import KMeans\n",
    "from sklearn.decomposition import PCA\n",
    "from multiprocessing import Pool\n",
    "from collections import defaultdict\n",
    "from scipy import sparse\n",
    "from scipy.sparse import csr_matrix\n",
    "from scipy.cluster.hierarchy import dendrogram, linkage\n",
    "import scipy.io as io"
   ]
  },
  {
   "cell_type": "code",
   "execution_count": 2,
   "metadata": {},
   "outputs": [],
   "source": [
    "local_df_columns = ['idx', 'gene_names', 'chromosome', 'pos', 'strand', 'color_idx', 'chr_idx', \n",
    "                    'region', 'distance', 'num_cell', 'bin', 'pval', 'fc', \n",
    "                    'padj-Gaussian', 'fc_by_rand_dist_cpm']"
   ]
  },
  {
   "cell_type": "code",
   "execution_count": 3,
   "metadata": {},
   "outputs": [],
   "source": [
    "MB361_local_hits = pd.read_csv('./MB361-filter_local_df.csv')[local_df_columns]\n",
    "MB231_local_hits = pd.read_csv('./MB231-filter_local_df.csv')[local_df_columns]"
   ]
  },
  {
   "cell_type": "code",
   "execution_count": 4,
   "metadata": {},
   "outputs": [],
   "source": [
    "common_local_region = set(MB361_local_hits['region']).intersection(set(MB231_local_hits['region']))"
   ]
  },
  {
   "cell_type": "code",
   "execution_count": 5,
   "metadata": {},
   "outputs": [
    {
     "data": {
      "text/plain": [
       "57"
      ]
     },
     "execution_count": 5,
     "metadata": {},
     "output_type": "execute_result"
    }
   ],
   "source": [
    "len(common_local_region)"
   ]
  },
  {
   "cell_type": "code",
   "execution_count": 6,
   "metadata": {},
   "outputs": [],
   "source": [
    "common_local_hits = set(MB361_local_hits['gene_names']).intersection(set(MB231_local_hits['gene_names']))"
   ]
  },
  {
   "cell_type": "code",
   "execution_count": 7,
   "metadata": {},
   "outputs": [
    {
     "data": {
      "text/plain": [
       "55"
      ]
     },
     "execution_count": 7,
     "metadata": {},
     "output_type": "execute_result"
    }
   ],
   "source": [
    "len(common_local_hits)"
   ]
  },
  {
   "cell_type": "code",
   "execution_count": 8,
   "metadata": {},
   "outputs": [
    {
     "name": "stdout",
     "output_type": "stream",
     "text": [
      "(366, 15)\n",
      "(335, 15)\n"
     ]
    }
   ],
   "source": [
    "print(MB361_local_hits.shape)\n",
    "print(MB231_local_hits.shape)"
   ]
  },
  {
   "cell_type": "markdown",
   "metadata": {},
   "source": [
    "## Scatter plots \n",
    "___"
   ]
  },
  {
   "cell_type": "code",
   "execution_count": 9,
   "metadata": {},
   "outputs": [],
   "source": [
    "MB361_local_pval_dict = {}\n",
    "for i in MB361_local_hits.index:\n",
    "    hit = MB361_local_hits.iloc[i, :]['gene_names']\n",
    "    region = MB361_local_hits.iloc[i, :]['region']\n",
    "    key = hit + ';' + region\n",
    "    pval = MB361_local_hits.iloc[i, :]['padj-Gaussian']\n",
    "    MB361_local_pval_dict[key] = (pval)"
   ]
  },
  {
   "cell_type": "code",
   "execution_count": 10,
   "metadata": {},
   "outputs": [],
   "source": [
    "MB231_local_pval_dict = {}\n",
    "for i in MB231_local_hits.index:\n",
    "    hit = MB231_local_hits.iloc[i, :]['gene_names']\n",
    "    region = MB231_local_hits.iloc[i, :]['region']\n",
    "    key = hit + ';' + region\n",
    "    pval = MB231_local_hits.iloc[i, :]['padj-Gaussian']\n",
    "    MB231_local_pval_dict[key] = (pval)"
   ]
  },
  {
   "cell_type": "code",
   "execution_count": 11,
   "metadata": {},
   "outputs": [],
   "source": [
    "x = []\n",
    "y = []\n",
    "common = list(set(MB231_local_pval_dict.keys()).intersection(set(MB361_local_pval_dict.keys())))\n",
    "for i in common:\n",
    "    MB361 = MB361_local_pval_dict[i]\n",
    "    MB231 = MB231_local_pval_dict[i]\n",
    "    x.append(MB361)\n",
    "    y.append(MB231)\n",
    "    \n",
    "for j in list(set(MB231_local_pval_dict.keys()) - set(common)):\n",
    "    MB361 = 0\n",
    "    MB231 = MB231_local_pval_dict[j]\n",
    "    x.append(MB361)\n",
    "    y.append(MB231)\n",
    "    \n",
    "for k in list(set(MB361_local_pval_dict.keys()) - set(common)):\n",
    "    MB361 = MB361_local_pval_dict[k]\n",
    "    MB231 = 0\n",
    "    x.append(MB361)\n",
    "    y.append(MB231)"
   ]
  },
  {
   "cell_type": "code",
   "execution_count": 20,
   "metadata": {},
   "outputs": [
    {
     "data": {
      "text/plain": [
       "['CECR5;chr22:17158720-17159265',\n",
       " 'BTBD6;chr14:105248313-105248813',\n",
       " 'IFITM3;chr11:320278-320778',\n",
       " 'ARHGAP18;chr6:129709987-129710487',\n",
       " 'FAM114A1;chr4:38867436-38867936',\n",
       " 'RTKN2;chr10:62268516-62269016',\n",
       " 'TCAF1;chr7:143901770-143902270',\n",
       " 'RPS6KL1;chr14:73609755-73610255',\n",
       " 'TPK1;chr7:144835807-144836307',\n",
       " 'C22orf46;chr22:41688620-41689120',\n",
       " 'BCKDHB;chr6:80106743-80107243',\n",
       " 'S100A13;chr1:153627032-153627592',\n",
       " 'LGMN;chr14:92748396-92748896',\n",
       " 'NIT2;chr3:100334571-100335071',\n",
       " 'BCKDHB;chr6:80106304-80106804',\n",
       " 'MT1X;chr16:56682049-56682549',\n",
       " 'TUBG2;chr17:42658996-42659496',\n",
       " 'ZNF37A;chr10:38094004-38094571',\n",
       " 'CLASRP;chr19:45091777-45092295',\n",
       " 'PEX14;chr1:10474732-10475232',\n",
       " 'PMVK;chr1:154936783-154937283',\n",
       " 'TNFSF10;chr3:172523246-172523746',\n",
       " 'SLC25A45;chr11:65382135-65382635',\n",
       " 'RNF135;chr17:30970918-30971418',\n",
       " 'SLC50A1;chr1:155135649-155136149',\n",
       " 'SNX7;chr1:98661533-98662033',\n",
       " 'PRDX1;chr1:45521656-45522156',\n",
       " 'C19orf60;chr19:18588521-18589021',\n",
       " 'GMPR;chr6:16238324-16238824',\n",
       " 'RNH1;chr11:506716-507216',\n",
       " 'TSPAN1;chr1:46183100-46183600',\n",
       " 'CCRL2;chr3:46407078-46407578',\n",
       " 'TXNRD3;chr3:126654682-126655182',\n",
       " 'PLEKHF1;chr19:29671409-29671909',\n",
       " 'MT2A;chr16:56607213-56607713',\n",
       " 'BST2;chr19:17405479-17405979',\n",
       " 'GPAT3;chr4:83535890-83536390',\n",
       " 'TMEM161A;chr19:19138251-19138751']"
      ]
     },
     "execution_count": 20,
     "metadata": {},
     "output_type": "execute_result"
    }
   ],
   "source": [
    "common"
   ]
  },
  {
   "cell_type": "code",
   "execution_count": 12,
   "metadata": {},
   "outputs": [
    {
     "name": "stdout",
     "output_type": "stream",
     "text": [
      "38\n",
      "328\n",
      "296\n"
     ]
    }
   ],
   "source": [
    "print(len(common))\n",
    "print(len(list(set(MB361_local_pval_dict.keys()) - set(common))))\n",
    "print(len(list(set(MB231_local_pval_dict.keys()) - set(common))))"
   ]
  },
  {
   "cell_type": "code",
   "execution_count": 13,
   "metadata": {},
   "outputs": [
    {
     "name": "stdout",
     "output_type": "stream",
     "text": [
      "662\n",
      "662\n"
     ]
    }
   ],
   "source": [
    "print(len(x))\n",
    "print(len(y))"
   ]
  },
  {
   "cell_type": "code",
   "execution_count": 14,
   "metadata": {},
   "outputs": [],
   "source": [
    "promoter_list = ['RNH1;chr11:506716-507216', 'TUBG2;chr17:42658996-42659496', 'BCKDHB;chr6:80106743-80107243', 'BCKDHB;chr6:80106304-80106804',\n",
    "                'IFITM3;chr11:320278-320778', 'LGMN;chr14:92748396-92748896', 'BTBD6;chr14:105248313-105248813', 'C19orf60;chr19:18588521-18589021', \n",
    "                'TCAF1;chr7:143901770-143902270', 'MT1X;chr16:56682049-56682549', 'ARHGAP18;chr6:129709987-129710487', 'ZNF37A;chr10:38094004-38094571',\n",
    "                'PRDX1;chr1:45521656-45522156', 'TXNRD3;chr3:126654682-126655182', 'C22orf46;chr22:41688620-41689120', 'PEX14;chr1:10474732-10475232',\n",
    "                'TNFSF10;chr3:172523246-172523746', 'SLC25A45;chr11:65382135-65382635', 'TMEM161A;chr19:19138251-19138751', 'TPK1;chr7:144835807-144836307',\n",
    "                'S100A13;chr1:153627032-153627592', 'RNF135;chr17:30970918-30971418', 'SLC50A1;chr1:155135649-155136149', 'BST2;chr19:17405479-17405979',\n",
    "                'CCRL2;chr3:46407078-46407578', 'FAM114A1;chr4:38867436-38867936', 'GMPR;chr6:16238324-16238824', 'MT2A;chr16:56607213-56607713', \n",
    "                'PMVK;chr1:154936783-154937283', 'GPAT3;chr4:83535890-83536390', 'NIT2;chr3:100334571-100335071', 'CECR5;chr22:17158720-17159265', \n",
    "                'SNX7;chr1:98661533-98662033', 'RTKN2;chr10:62268516-62269016']"
   ]
  },
  {
   "cell_type": "code",
   "execution_count": 15,
   "metadata": {},
   "outputs": [],
   "source": [
    "px = []\n",
    "py = []\n",
    "for i in promoter_list:\n",
    "    MB361 = MB361_local_pval_dict[i]\n",
    "    MB231 = MB231_local_pval_dict[i]\n",
    "    px.append(MB361)\n",
    "    py.append(MB231)"
   ]
  },
  {
   "cell_type": "code",
   "execution_count": 16,
   "metadata": {},
   "outputs": [
    {
     "name": "stdout",
     "output_type": "stream",
     "text": [
      "34\n",
      "34\n"
     ]
    }
   ],
   "source": [
    "print(len(px))\n",
    "print(len(py))"
   ]
  },
  {
   "cell_type": "code",
   "execution_count": 18,
   "metadata": {},
   "outputs": [
    {
     "data": {
      "image/png": "[encoded data removed]",
      "text/plain": [
       "<Figure size 720x720 with 1 Axes>"
      ]
     },
     "metadata": {
      "needs_background": "light"
     },
     "output_type": "display_data"
    }
   ],
   "source": [
    "#Plot\n",
    "fig, ax = plt.subplots(figsize= (10,10))\n",
    "\n",
    "ax.set_ylabel('MDA-MB-231 p value', fontsize=18)\n",
    "ax.set_xlabel('MDA-MB-361 p value', fontsize=18)\n",
    "ax.grid(ls='--', color='#D8D8D8')\n",
    "ax.set_xlim(-100,1500)\n",
    "ax.set_ylim(-100,1500)\n",
    "ax = plt.scatter(-np.array(x), -np.array(y), s=50, c='#7A68A6', alpha=0.8)\n",
    "ax = plt.scatter(-np.array(px), -np.array(py), s=50, c='#348ABD')\n",
    "plt.savefig('./figures/cell_line_local_pval_scatter.pdf')"
   ]
  },
  {
   "cell_type": "markdown",
   "metadata": {},
   "source": [
    "## Cell line local hit table \n",
    "___"
   ]
  },
  {
   "cell_type": "code",
   "execution_count": 9,
   "metadata": {},
   "outputs": [],
   "source": [
    "MB361_local_freq = collections.Counter(MB361_local_hits['gene_names'])\n",
    "MB231_local_freq = collections.Counter(MB231_local_hits['gene_names'])"
   ]
  },
  {
   "cell_type": "code",
   "execution_count": 11,
   "metadata": {},
   "outputs": [
    {
     "name": "stdout",
     "output_type": "stream",
     "text": [
      "RNH1\n",
      "['chr11:506716-507216']\n",
      "['chr11:506716-507216']\n",
      "RP11-139K1.2\n",
      "['chr10:112963748-112964248']\n",
      "['chr10:113326422-113326922']\n",
      "TUBG2\n",
      "['chr17:42658996-42659496']\n",
      "['chr17:42658996-42659496']\n",
      "BCKDHB\n",
      "['chr6:80106743-80107243' 'chr6:80106304-80106804']\n",
      "['chr6:80106304-80106804' 'chr6:80106743-80107243']\n",
      "PPARA\n",
      "['chr22:45688631-45689131']\n",
      "['chr22:46159668-46160168']\n",
      "IFITM3\n",
      "['chr11:320278-320778']\n",
      "['chr11:320278-320778']\n",
      "HIST1H2AM\n",
      "['chr6:26568556-26569083' 'chr6:27177680-27178180']\n",
      "['chr6:28922148-28922648']\n",
      "FBXO32\n",
      "['chr8:123537580-123538080' 'chr8:123548191-123548691'\n",
      " 'chr8:123241141-123241641']\n",
      "['chr8:123632927-123633427' 'chr8:123680918-123681418']\n",
      "LGMN\n",
      "['chr14:92748396-92748896']\n",
      "['chr14:92748396-92748896']\n",
      "BLOC1S3\n",
      "['chr19:45443419-45443919']\n",
      "['chr19:43785159-43785659']\n",
      "BTBD6\n",
      "['chr14:105248313-105248813']\n",
      "['chr14:105248313-105248813']\n",
      "C19orf60\n",
      "['chr19:18588521-18589021']\n",
      "['chr19:18588521-18589021']\n",
      "HCN3\n",
      "['chr1:154955959-154956459']\n",
      "['chr1:155323052-155323552']\n",
      "RPS6KL1\n",
      "['chr14:73609755-73610255']\n",
      "['chr14:73609755-73610255']\n",
      "TCAF1\n",
      "['chr7:143901770-143902270']\n",
      "['chr7:143901770-143902270']\n",
      "CLASRP\n",
      "['chr19:45091777-45092295' 'chr19:43575445-43575945']\n",
      "['chr19:45091777-45092295']\n",
      "ZNF14\n",
      "['chr19:18741555-18742187']\n",
      "['chr19:19405298-19405798']\n",
      "MT1X\n",
      "['chr16:56682049-56682549']\n",
      "['chr16:56682049-56682549' 'chr16:56679751-56680251'\n",
      " 'chr16:56607213-56607713']\n",
      "ARHGAP18\n",
      "['chr6:129709987-129710487']\n",
      "['chr6:129709987-129710487' 'chr6:129709987-129710487'\n",
      " 'chr6:129683967-129684467']\n",
      "ZNF37A\n",
      "['chr10:38094004-38094571']\n",
      "['chr10:38094004-38094571']\n",
      "PPM1N\n",
      "['chr19:43595924-43596424']\n",
      "['chr19:45645911-45646411']\n",
      "CTSO\n",
      "['chr4:156815544-156816112']\n",
      "['chr4:156476239-156476810']\n",
      "ZNF333\n",
      "['chr19:12801571-12802165']\n",
      "['chr19:13862091-13862591']\n",
      "TSPAN1\n",
      "['chr1:46183100-46183600']\n",
      "['chr1:46183100-46183600']\n",
      "TGFBR2\n",
      "['chr3:30606262-30606762']\n",
      "['chr3:30511467-30511967']\n",
      "PRDX1\n",
      "['chr1:45521656-45522156']\n",
      "['chr1:45521656-45522156']\n",
      "ITGA6\n",
      "['chr2:172427234-172427734']\n",
      "['chr2:172449791-172450291']\n",
      "TXNRD3\n",
      "['chr3:126654682-126655182']\n",
      "['chr3:126654682-126655182']\n",
      "ZNF284\n",
      "['chr19:45439665-45440165']\n",
      "['chr19:45405809-45406309']\n",
      "C22orf46\n",
      "['chr22:41688620-41689120']\n",
      "['chr22:41688620-41689120']\n",
      "PEX14\n",
      "['chr1:10474732-10475232']\n",
      "['chr1:10474732-10475232']\n",
      "TNFSF10\n",
      "['chr3:172523246-172523746' 'chr3:172516679-172517179']\n",
      "['chr3:172523246-172523746']\n",
      "SLC25A45\n",
      "['chr11:65382135-65382635' 'chr11:66069978-66070478']\n",
      "['chr11:65382135-65382635']\n",
      "PLEKHF1\n",
      "['chr19:29671409-29671909']\n",
      "['chr19:29671409-29671909']\n",
      "TMEM161A\n",
      "['chr19:19138251-19138751']\n",
      "['chr19:19138251-19138751']\n",
      "TPK1\n",
      "['chr7:144835807-144836307']\n",
      "['chr7:144835807-144836307']\n",
      "S100A13\n",
      "['chr1:153627032-153627592']\n",
      "['chr1:153627032-153627592']\n",
      "RNF135\n",
      "['chr17:30970918-30971418']\n",
      "['chr17:30970918-30971418']\n",
      "XXbac-BPG24O18.1\n",
      "['chr6:26045018-26045518']\n",
      "['chr6:26351456-26351956' 'chr6:26251373-26251904']\n",
      "SLC50A1\n",
      "['chr1:155135649-155136149']\n",
      "['chr1:155135649-155136149']\n",
      "BST2\n",
      "['chr19:17680060-17680560' 'chr19:17405479-17405979'\n",
      " 'chr19:19371010-19371510' 'chr19:17309178-17309678'\n",
      " 'chr19:18636547-18637047' 'chr19:17107939-17108439'\n",
      " 'chr19:18660153-18660653']\n",
      "['chr19:17405479-17405979']\n",
      "CCRL2\n",
      "['chr3:46407078-46407578']\n",
      "['chr3:46407078-46407578']\n",
      "CNIH2\n",
      "['chr11:66015385-66015885']\n",
      "['chr11:65421145-65421645']\n",
      "FAM114A1\n",
      "['chr4:38867436-38867936']\n",
      "['chr4:38867436-38867936']\n",
      "GMPR\n",
      "['chr6:16238324-16238824']\n",
      "['chr6:16239560-16240060' 'chr6:16238324-16238824']\n",
      "MT2A\n",
      "['chr16:56607213-56607713']\n",
      "['chr16:56607213-56607713' 'chr16:56608241-56608741']\n",
      "PMVK\n",
      "['chr1:154936783-154937283']\n",
      "['chr1:154936783-154937283']\n",
      "GPAT3\n",
      "['chr4:83535890-83536390']\n",
      "['chr4:83535890-83536390']\n",
      "NIT2\n",
      "['chr3:100334571-100335071']\n",
      "['chr3:100334571-100335071']\n",
      "MKL1\n",
      "['chr22:41688620-41689120']\n",
      "['chr22:41197328-41197828']\n",
      "CECR5\n",
      "['chr22:17158720-17159265']\n",
      "['chr22:17158720-17159265']\n",
      "KCNN4\n",
      "['chr19:43785159-43785659']\n",
      "['chr19:43765068-43765568']\n",
      "SNX7\n",
      "['chr1:98661533-98662033']\n",
      "['chr1:98661533-98662033']\n",
      "GPR68\n",
      "['chr14:91264272-91264772']\n",
      "['chr14:92726091-92726591']\n",
      "RTKN2\n",
      "['chr10:62268516-62269016']\n",
      "['chr10:62268516-62269016']\n"
     ]
    }
   ],
   "source": [
    "for i in set(MB361_local_freq.keys()).intersection(set(MB231_local_freq.keys())):\n",
    "    print(i)\n",
    "    print(MB361_local_hits[MB361_local_hits['gene_names'] == i]['region'].values)\n",
    "    print(MB231_local_hits[MB231_local_hits['gene_names'] == i]['region'].values)"
   ]
  },
  {
   "cell_type": "code",
   "execution_count": null,
   "metadata": {},
   "outputs": [],
   "source": []
  }
 ],
 "metadata": {
  "kernelspec": {
   "display_name": "py37-cluster2",
   "language": "python",
   "name": "py37-cluster2"
  },
  "language_info": {
   "codemirror_mode": {
    "name": "ipython",
    "version": 3
   },
   "file_extension": ".py",
   "mimetype": "text/x-python",
   "name": "python",
   "nbconvert_exporter": "python",
   "pygments_lexer": "ipython3",
   "version": "3.7.11"
  }
 },
 "nbformat": 4,
 "nbformat_minor": 2
}
